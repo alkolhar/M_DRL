{
 "cells": [
  {
   "cell_type": "markdown",
   "metadata": {},
   "source": [
    "# V-Values and RPE\n",
    "\n",
    "\n",
    "We use the same environment as before to study two important quantities:\n",
    "* the Reward Prediction Error (RPE)\n",
    "* the V-value, V(s), sometimes called state-value.\n",
    "\n",
    "<hr>\n",
    "\n",
    "### V(s), informal definition.\n",
    "With each state s, we can associate a quantity V(s). The V-value V(s) tells us the following: when the agent starts in state s and follows a (fixed) policy, how much reward will the agent collect, on average, until the end of the episode?\n",
    "\n",
    "<hr>\n",
    "\n",
    "In the previous exercise, you sampled full episodes and calculated the mean of the reward per episode. The value you've approximated was actually the value of the start-state, V(s0) for a fixed, random policy (that is, when the agent selects left/right with $p=0.5$). (A side note for the impatient: we considered $\\gamma = 1.0$).\n",
    "\n",
    "\n",
    "\n",
    "We state the definitions without further explanations and use them in the exercise below (see class script/slides).\n",
    "\n",
    "\n"
   ]
  },
  {
   "cell_type": "markdown",
   "metadata": {},
   "source": [
    "# Specification of the task\n",
    "Reward and Transitions."
   ]
  },
  {
   "cell_type": "code",
   "execution_count": 1,
   "metadata": {},
   "outputs": [],
   "source": [
    "# unchanged from prev. exercise.\n",
    "rewards = [0, -1, 0, -10, 4, 3, 7, 5]\n",
    "is_terminal = [False, False, False, True, False, True, True, True]\n",
    "T = [ \n",
    "    [1, 2],  # in state s0, taking action a0 brings us to state s1, a1 to s2\n",
    "    [3,4],   # in state s1, taking action a0 brings us to state s3, a1 to s4\n",
    "    [6,5],   # in state s2, taking action a0 brings us to state s6, a1 to s5\n",
    "    [-1, -1], # state s3 is a terminal state. next-state is undefined (we use -1 here).\n",
    "    [7, 7],   # from state s4, both actions lead to state s7\n",
    "    [-1, -1], # state s5 is a terminal state\n",
    "    [-1, -1], # state s6 is a terminal state\n",
    "    [-1, -1]  # state s7 is a terminal state\n",
    "]\n"
   ]
  },
  {
   "cell_type": "markdown",
   "metadata": {},
   "source": [
    "# Interlude: matplotlib\n",
    "In this exercise you visualize results using matplotlib. <br>\n",
    "\n",
    "Have a look a the examples here:\n",
    "https://matplotlib.org/stable/gallery/index.html\n",
    "\n",
    "\n",
    "The next code blocks first imports the package and renames pyplot as plt (this is a common alias). Also note the line <br>\n",
    "%matplotlib inline <br>\n",
    "This tells jupyter to render a graphic within the notebook (and not inside a new window). If you are writing a normal python script, you can omit that line. (Some background: https://stackoverflow.com/questions/43027980/purpose-of-matplotlib-inline )\n",
    "<br>\n"
   ]
  },
  {
   "cell_type": "code",
   "execution_count": 2,
   "metadata": {},
   "outputs": [],
   "source": [
    "# imports\n",
    "%matplotlib inline\n",
    "import matplotlib\n",
    "import matplotlib.pyplot as plt\n",
    "import random"
   ]
  },
  {
   "cell_type": "code",
   "execution_count": 3,
   "metadata": {},
   "outputs": [
    {
     "data": {
      "text/plain": [
       "Text(0, 0.5, '$i^2$')"
      ]
     },
     "execution_count": 3,
     "metadata": {},
     "output_type": "execute_result"
    },
    {
     "data": {
      "image/png": "[encoded data removed]",
      "text/plain": [
       "<Figure size 432x288 with 1 Axes>"
      ]
     },
     "metadata": {
      "needs_background": "light"
     },
     "output_type": "display_data"
    }
   ],
   "source": [
    "# a very short example to demonstrate plotting\n",
    "\n",
    "# generate some data.\n",
    "# here we use list comprehension\n",
    "# https://www.w3schools.com/python/python_lists_comprehension.asp\n",
    "\n",
    "data = [i*i for i in range(11) ]\n",
    "    \n",
    "plt.plot(data, 'o-')\n",
    "\n",
    "plt.title(\"Demo\")\n",
    "plt.xlabel(\"i\")\n",
    "plt.ylabel(\"$i^2$\", fontsize = 16)"
   ]
  },
  {
   "cell_type": "markdown",
   "metadata": {},
   "source": [
    "# Exercise:\n",
    "\n",
    "\n",
    "### Implement the Policy Evaluation Algorithm\n",
    "* Calculate the V(s) for **every** state s\n",
    "* Monitor the trial-by-trial RPE (at each time-step, at the current state. That is, at s, not s')\n",
    "* Use matplotlib to visualize per state the evolution of a) the value and b) the RPE\n",
    "\n",
    "### some remarks\n",
    "\n",
    "Look at the following variables. V is a list of state values $V(s)$. The list is initized with 0s, and after applying policy evaluation, we expect V to converge to the correct V(s), e.g. we expect $V[0] \\approx 1.75$, $V[1] \\approx -0.5$, and so on. \n",
    "\n",
    "In addition to the final value V(s), it is interesting to study the evolution of V(s), that is, how the value evolve from the initial 0 to the final value. In order to monitor this evolution, we define an additional variable V_t. It is a list of lists. For each state, we keep track of the sequence of values. For example, the list at V[0] is a list that looks like this: $[0, 0.01, 0.02, ...  1.75]$.\n",
    "\n",
    "A key learning signal in RL is the Reward Prediction Error RPE. We also monitor this quantity, at each state, over the entire learning process. To this end, we use the same data structure as we did for V_t.\n",
    "\n",
    "\n"
   ]
  },
  {
   "cell_type": "code",
   "execution_count": 4,
   "metadata": {},
   "outputs": [
    {
     "name": "stdout",
     "output_type": "stream",
     "text": [
      "[[], [-0.5, -0.4, 0.1, 0.05], [], [], [], [], [0.3], []]\n"
     ]
    },
    {
     "data": {
      "text/plain": [
       "<matplotlib.legend.Legend at 0x231f43178e0>"
      ]
     },
     "execution_count": 4,
     "metadata": {},
     "output_type": "execute_result"
    },
    {
     "data": {
      "image/png": "[encoded data removed]",
      "text/plain": [
       "<Figure size 432x288 with 1 Axes>"
      ]
     },
     "metadata": {
      "needs_background": "light"
     },
     "output_type": "display_data"
    }
   ],
   "source": [
    "# short demo how to use lists and how to append values to lists\n",
    "demo = [[],[],[],[],[],[],[],[]]\n",
    "\n",
    "RPE = -0.5 \n",
    "demo[1].append(RPE)\n",
    "RPE = +0.3\n",
    "demo[6].append(RPE)\n",
    "demo[1].append(-0.4)\n",
    "demo[1].append(+0.1)\n",
    "demo[1].append(+0.05)\n",
    "\n",
    "print(demo)\n",
    "\n",
    "# plot\n",
    "state = 1\n",
    "plt.plot(demo[state], '--o', label='RPE')\n",
    "plt.title('RPE state S{}'.format(state))\n",
    "plt.grid()\n",
    "plt.legend()\n"
   ]
  },
  {
   "cell_type": "code",
   "execution_count": 13,
   "metadata": {},
   "outputs": [],
   "source": [
    "# The (current) value for each state\n",
    "V = [0, 0 , 0, 0, 0, 0, 0, 0]\n",
    "\n",
    "# The value at each state AND each time-step\n",
    "V_t = [[0],[0],[0],[0],[0],[0],[0],[0]] # initialize with 0\n",
    "\n",
    "# The trial-by-trial RPE, for each state (the state s, not s')\n",
    "RPE_t = [[],[],[],[],[],[],[],[]]  # .append also works for empty lists \n",
    "\n",
    "# try different learning rates\n",
    "alpha = 0.001\n",
    "\n",
    "# ignore for now (it's the discount factor)\n",
    "gamma = 1.0"
   ]
  },
  {
   "cell_type": "code",
   "execution_count": 15,
   "metadata": {},
   "outputs": [
    {
     "name": "stdout",
     "output_type": "stream",
     "text": [
      "100001\n"
     ]
    }
   ],
   "source": [
    "for x in range(100000):\n",
    "    # the agent starts at state s0.\n",
    "    current_state = 0\n",
    "    while (not is_terminal[current_state]):\n",
    "        # In our environment, one can select from two actions, a0 and a1. Our agent follows a random policy where \n",
    "        # each action is take with equal probability:\n",
    "        action = random.randint(0,1)\n",
    "\n",
    "        # observe the next state and the reward\n",
    "        next_state = T[current_state][action]\n",
    "        r = rewards[next_state] # use lower case r for the immediate reward. Upper case R is the sum of rewards, called Return.\n",
    "        \n",
    "        # calculate RPE\n",
    "        rpe = r + gamma * V[next_state] - V[current_state]\n",
    "        V[current_state] += alpha * rpe\n",
    "        \n",
    "        # V_st+1\n",
    "        V_t[current_state].append(V[current_state])\n",
    "        \n",
    "        # calculate RPE\n",
    "        RPE_t[current_state].append(rpe)\n",
    "\n",
    "        # go to next state\n",
    "        current_state = next_state\n",
    "\n",
    "        \n",
    "print(len(RPE_t[0]))"
   ]
  },
  {
   "cell_type": "code",
   "execution_count": 22,
   "metadata": {},
   "outputs": [
    {
     "data": {
      "image/png": "[encoded data removed]",
      "text/plain": [
       "<Figure size 432x288 with 1 Axes>"
      ]
     },
     "metadata": {
      "needs_background": "light"
     },
     "output_type": "display_data"
    }
   ],
   "source": [
    "state = 0\n",
    "plt.plot(V_t[state], label='V(S{})'.format(state), markersize=0.2)\n",
    "plt.plot(RPE_t[state], 'o', label='RPE(S{})'.format(state), markersize=0.5)\n",
    "plt.title('RPE state S{}'.format(state))\n",
    "plt.legend()\n",
    "plt.grid()"
   ]
  },
  {
   "cell_type": "code",
   "execution_count": 25,
   "metadata": {},
   "outputs": [],
   "source": []
  },
  {
   "cell_type": "code",
   "execution_count": 26,
   "metadata": {},
   "outputs": [
    {
     "name": "stdout",
     "output_type": "stream",
     "text": [
      "200001\n"
     ]
    }
   ],
   "source": []
  }
 ],
 "metadata": {
  "kernelspec": {
   "display_name": "Python 3 (ipykernel)",
   "language": "python",
   "name": "python3"
  },
  "language_info": {
   "codemirror_mode": {
    "name": "ipython",
    "version": 3
   },
   "file_extension": ".py",
   "mimetype": "text/x-python",
   "name": "python",
   "nbconvert_exporter": "python",
   "pygments_lexer": "ipython3",
   "version": "3.10.0"
  }
 },
 "nbformat": 4,
 "nbformat_minor": 4
}
